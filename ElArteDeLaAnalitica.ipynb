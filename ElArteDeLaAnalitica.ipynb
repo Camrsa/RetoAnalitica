{
 "cells": [
  {
   "cell_type": "markdown",
   "metadata": {},
   "source": [
    "<b>Ejercicios con Python</b>\n",
    "\n",
    "<ol>\n",
    "    <li>\n",
    "Escribir una función de Python que encuentre los números primos en los primeros N números naturales.\n",
    "        <ul>\n",
    "            <li>N es el argumento de la función.</li>\n",
    "            <li>Llamar la función desde el código principal.</li>\n",
    "        </ul>\n",
    "    </li>\n",
    "    <li>\n",
    "Escribir una función de Python que encuentre el producto cruz en vectores de 3 componentes.\n",
    "        <ul>\n",
    "            <li>La función recibe dos listas (vectores).</li>\n",
    "            <li>La función regresa un tercer vector (lista) con el resultado.</li>\n",
    "            <li>Llamar a la función desde el código principal.</li>\n",
    "        </ul>\n",
    "    </li>\n",
    "    <li>\n",
    "Re-escribir el problema 2, pero ahora los vectores son leídos desde un archivo de texto.\n",
    "    </li>\n",
    "</ol>"
   ]
  },
  {
   "cell_type": "code",
   "execution_count": 7,
   "metadata": {},
   "outputs": [],
   "source": [
    "def findPrimes(n):\n",
    "    import math\n",
    "    primes=[]\n",
    "    #test=[1 2 3 5 7]    \n",
    "    for i in range (2,n+1):\n",
    "        isPrime=True #asumir que es primo \n",
    "        limit=int(math.sqrt(i)) # definir hasta donde probar \n",
    "        for test in range(2,limit+1): #i se puede dividir entre test?\n",
    "            if i%test==0: #si se puede!\n",
    "                isPrime=False #no es primo \n",
    "                break #para de buscar\n",
    "        if isPrime:\n",
    "            primes.append(i)\n",
    "    return primes"
   ]
  },
  {
   "cell_type": "code",
   "execution_count": 8,
   "metadata": {},
   "outputs": [],
   "source": [
    "def crossProduct(a, b):\n",
    "    #a=(ax,ay,az)\n",
    "    #b=(bx,by,bz)\n",
    "    x=0 \n",
    "    y=1 \n",
    "    z=2\n",
    "    product = [a[y]*b[z]-a[z]*b[y],-(a[x]*b[z]-a[z]*b[x]),a[x]*b[y]-b[x]*a[y]]\n",
    "    # 3D cross product?\n",
    "    return product"
   ]
  },
  {
   "cell_type": "code",
   "execution_count": 15,
   "metadata": {},
   "outputs": [],
   "source": [
    "def crossProducts():\n",
    "    # Read a, b from file: vectors.txt\n",
    "    file =open(\"vectors.txt\",\"r\")\n",
    "    linea1=file.readline()\n",
    "    linea2=file.read()\n",
    "    vector1=linea1.split(\",\")\n",
    "    vector2=linea2.split(\",\")\n",
    "    for i in range(3):\n",
    "        vector1[i]=float(vector1[i])\n",
    "        vector2[i]=float(vector2[i]) \n",
    "    print(vector1)\n",
    "    print(vector2)\n",
    "    product = crossProduct(vector1,vector2)\n",
    "    return product"
   ]
  },
  {
   "cell_type": "code",
   "execution_count": 16,
   "metadata": {},
   "outputs": [
    {
     "name": "stdout",
     "output_type": "stream",
     "text": [
      "[13.45, 20.67, -15.0821]\n",
      "[-5.012, -40.333, 12.874]\n"
     ]
    },
    {
     "data": {
      "text/plain": [
       "[-342.20075929999996, -97.56381480000002, -438.88081]"
      ]
     },
     "execution_count": 16,
     "metadata": {},
     "output_type": "execute_result"
    }
   ],
   "source": [
    "#primes100=int(100)\n",
    "#print(findPrimes(primes100))\n",
    "a=[1,2,3]\n",
    "b=[4,5,6]\n",
    "#crossProduct(a,b)\n",
    "crossProducts()"
   ]
  },
  {
   "cell_type": "code",
   "execution_count": null,
   "metadata": {},
   "outputs": [],
   "source": []
  }
 ],
 "metadata": {
  "kernelspec": {
   "display_name": "Python 3",
   "language": "python",
   "name": "python3"
  },
  "language_info": {
   "codemirror_mode": {
    "name": "ipython",
    "version": 3
   },
   "file_extension": ".py",
   "mimetype": "text/x-python",
   "name": "python",
   "nbconvert_exporter": "python",
   "pygments_lexer": "ipython3",
   "version": "3.8.5"
  }
 },
 "nbformat": 4,
 "nbformat_minor": 4
}
